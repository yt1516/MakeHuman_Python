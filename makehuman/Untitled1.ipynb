{
 "cells": [
  {
   "cell_type": "code",
   "execution_count": 18,
   "metadata": {},
   "outputs": [],
   "source": [
    "import os\n",
    "import cv2\n",
    "import dlib\n",
    "import numpy as np\n",
    "import math\n",
    "\n",
    "def txt_gen(img_name,detector,predictor):\n",
    "    img = cv2.imread(img_name)\n",
    "    gray=cv2.cvtColor(src=img,code=cv2.COLOR_BGR2GRAY)\n",
    "\n",
    "    faces=detector(gray)\n",
    "\n",
    "    pointsArray = [];\n",
    "\n",
    "    for face in faces:\n",
    "        x1 = face.left()\n",
    "        y1 = face.top()\n",
    "        x2 = face.right()\n",
    "        y2 = face.bottom()\n",
    "\n",
    "        landmarks=predictor(image=gray,box=face)\n",
    "\n",
    "        for n in range(0,68):\n",
    "\n",
    "            x=landmarks.part(n).x\n",
    "            y=landmarks.part(n).y\n",
    "\n",
    "            cv2.circle(img=img, center=(x,y),radius=5,color=(0,255,0),thickness=-1)\n",
    "\n",
    "            points = (int(x), int(y));   \n",
    "\n",
    "            pointsArray.append(points)\n",
    "    return pointsArray\n",
    "#     file_name=img_name+'.txt'\n",
    "#     np.savetxt(file_name,pointsArray,fmt=\"%d\")\n",
    "    \n",
    "def readImages(filetitle):\n",
    "    imagesArray = []\n",
    "    for file in os.listdir():\n",
    "        if file==filetitle:\n",
    "            img = cv2.imread(filetitle)\n",
    "            img = np.float32(img)/255.0\n",
    "            imagesArray.append(img)\n",
    "    return imagesArray\n",
    "\n",
    "def readPoints(filetitle):\n",
    "    pointsArray=[]\n",
    "    for files in os.listdir():\n",
    "        if files[0:3]==filetitle[0:3] and files.endswith('.txt'):\n",
    "#             filetitle=files+'.txt'\n",
    "            points = [];   \n",
    "            print(files)\n",
    "            with open(files) as file :\n",
    "                for line in file :\n",
    "                    x, y = line.split()\n",
    "                    points.append((int(x), int(y)))\n",
    "            pointsArray.append(points)\n",
    "    return pointsArray\n",
    "\n",
    "def similarityTransform(inPoints, outPoints) :\n",
    "    s60 = math.sin(60*math.pi/180);\n",
    "    c60 = math.cos(60*math.pi/180);  \n",
    "  \n",
    "    inPts = np.copy(inPoints).tolist();\n",
    "    outPts = np.copy(outPoints).tolist();\n",
    "    \n",
    "    xin = c60*(inPts[0][0] - inPts[1][0]) - s60*(inPts[0][1] - inPts[1][1]) + inPts[1][0];\n",
    "    yin = s60*(inPts[0][0] - inPts[1][0]) + c60*(inPts[0][1] - inPts[1][1]) + inPts[1][1];\n",
    "    \n",
    "    inPts.append([np.int(xin), np.int(yin)]);\n",
    "    \n",
    "    xout = c60*(outPts[0][0] - outPts[1][0]) - s60*(outPts[0][1] - outPts[1][1]) + outPts[1][0];\n",
    "    yout = s60*(outPts[0][0] - outPts[1][0]) + c60*(outPts[0][1] - outPts[1][1]) + outPts[1][1];\n",
    "    \n",
    "    outPts.append([np.int(xout), np.int(yout)]);\n",
    "    \n",
    "    tform = cv2.estimateRigidTransform(np.array([inPts]), np.array([outPts]), False);\n",
    "    \n",
    "    return tform;\n",
    "\n",
    "def draw_point(img, p, color ) :\n",
    "    cv2.circle(img, p, 5, color, -1, cv2.LINE_AA, 0 )    \n",
    "    \n",
    "    \n",
    "def single_image_gen(w,h,eyecornerDst,filetitle,detector,predictor,loc_1,loc_2):\n",
    "    \n",
    "    allPoints=readPoints(filetitle)\n",
    "    images=readImages(filetitle)\n",
    "    pointsArray = [];\n",
    "\n",
    "    imagesNorm = [];\n",
    "    pointsNorm = [];\n",
    "    boundaryPts = np.array([(0,0), (w/2,0), (w-1,0), (w-1,h/2), ( w-1, h-1 ), ( w/2, h-1 ), (0, h-1), (0,h/2) ]);\n",
    "    pointsAvg = np.array([(0,0)]* ( len(allPoints[0]) + len(boundaryPts) ), np.float32());\n",
    "    n = len(allPoints[0]);\n",
    "    numImages = len(images)\n",
    "\n",
    "    for q in range(0, numImages):\n",
    "        points1 = allPoints[q];\n",
    "\n",
    "        # Corners of the eye in input image\n",
    "        eyecornerSrc  = [allPoints[q][loc_1], allPoints[q][loc_2]] ;\n",
    "\n",
    "        # Compute similarity transform\n",
    "        tform = similarityTransform(eyecornerSrc, eyecornerDst);\n",
    "\n",
    "        # Apply similarity transformation\n",
    "        img = cv2.warpAffine(images[q], tform, (w,h));\n",
    "\n",
    "        # Apply similarity transform on points\n",
    "        points2 = np.reshape(np.array(points1), (68,1,2));        \n",
    "\n",
    "        points = cv2.transform(points2, tform);\n",
    "\n",
    "        points = np.float32(np.reshape(points, (68, 2)));\n",
    "\n",
    "        # Append boundary points. Will be used in Delaunay Triangulation\n",
    "        points = np.append(points, boundaryPts, axis=0)\n",
    "\n",
    "        # Calculate location of average landmark points.\n",
    "        pointsAvg = pointsAvg + points / numImages;\n",
    "\n",
    "        for p in points :\n",
    "            draw_point(img, (int(p[0]),int(p[1])), (0,0,255))\n",
    "            points = (int(p[0]),int(p[1]));   \n",
    "\n",
    "            pointsArray.append(points)\n",
    "        \n",
    "        cv2.imwrite('dotted_'+filetitle,img*255)\n",
    "        file_name=filetitle+'_dotted.txt'\n",
    "        np.savetxt(file_name,pointsArray,fmt=\"%d\")\n",
    "\n",
    "def difference(point1,point2):\n",
    "    (x1,y1)=point1\n",
    "    (x2,y2)=point2\n",
    "    return (math.sqrt((x2-x1)^2+(y2-y1)^2))\n"
   ]
  },
  {
   "cell_type": "code",
   "execution_count": null,
   "metadata": {},
   "outputs": [],
   "source": []
  },
  {
   "cell_type": "code",
   "execution_count": 6,
   "metadata": {},
   "outputs": [],
   "source": [
    "detector=dlib.get_frontal_face_detector()\n",
    "predictor=dlib.shape_predictor(\"shape_predictor_68_face_landmarks.dat\")\n",
    "\n",
    "MH_img='initial.png'\n",
    "MH_landmarks=txt_gen(MH_img,detector,predictor)\n",
    "\n",
    "Man_img='mwt.jpg'\n",
    "Man_landmarks=txt_gen(Man_img,detector,predictor)"
   ]
  },
  {
   "cell_type": "code",
   "execution_count": 7,
   "metadata": {},
   "outputs": [],
   "source": [
    "MH_zero = MH_landmarks[0]\n",
    "Man_zero = Man_landmarks[0]"
   ]
  },
  {
   "cell_type": "code",
   "execution_count": 14,
   "metadata": {},
   "outputs": [
    {
     "data": {
      "text/plain": [
       "(248, 496)"
      ]
     },
     "execution_count": 14,
     "metadata": {},
     "output_type": "execute_result"
    }
   ],
   "source": [
    "error=difference(MH_landmarks[0],Man_landmarks[0])"
   ]
  },
  {
   "cell_type": "code",
   "execution_count": 19,
   "metadata": {},
   "outputs": [
    {
     "data": {
      "text/plain": [
       "2.0"
      ]
     },
     "execution_count": 19,
     "metadata": {},
     "output_type": "execute_result"
    }
   ],
   "source": [
    "difference((1,2),(3,4))"
   ]
  },
  {
   "cell_type": "code",
   "execution_count": 24,
   "metadata": {},
   "outputs": [
    {
     "data": {
      "text/plain": [
       "2"
      ]
     },
     "execution_count": 24,
     "metadata": {},
     "output_type": "execute_result"
    }
   ],
   "source": [
    "error_track=[]\n",
    "error_track.append([2,3])\n",
    "[e_l,e_r]=error_track[0]\n",
    "e_l"
   ]
  }
 ],
 "metadata": {
  "kernelspec": {
   "display_name": "Python 3",
   "language": "python",
   "name": "python3"
  },
  "language_info": {
   "codemirror_mode": {
    "name": "ipython",
    "version": 3
   },
   "file_extension": ".py",
   "mimetype": "text/x-python",
   "name": "python",
   "nbconvert_exporter": "python",
   "pygments_lexer": "ipython3",
   "version": "3.7.6"
  }
 },
 "nbformat": 4,
 "nbformat_minor": 2
}
